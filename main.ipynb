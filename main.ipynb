{
 "cells": [
  {
   "cell_type": "code",
   "execution_count": 51,
   "metadata": {
    "colab": {
     "base_uri": "https://localhost:8080/"
    },
    "id": "LrZerXfatuZK",
    "outputId": "221b95db-d583-435c-b01d-4a0c5bfe0216"
   },
   "outputs": [],
   "source": [
    "import tensorflow as tf\n",
    "(x_train, y_train), (x_test, y_test) = tf.keras.datasets.mnist.load_data()"
   ]
  },
  {
   "cell_type": "code",
   "execution_count": 52,
   "metadata": {
    "colab": {
     "base_uri": "https://localhost:8080/",
     "height": 465
    },
    "id": "alnHju4Gt7OQ",
    "outputId": "936b1e09-25da-467d-ae88-971f65517d14"
   },
   "outputs": [
    {
     "name": "stdout",
     "output_type": "stream",
     "text": [
      "8\n"
     ]
    },
    {
     "data": {
      "text/plain": [
       "<matplotlib.image.AxesImage at 0x14d0a5270>"
      ]
     },
     "execution_count": 52,
     "metadata": {},
     "output_type": "execute_result"
    },
    {
     "data": {
      "image/png": "[encoded data removed]",
      "text/plain": [
       "<Figure size 640x480 with 1 Axes>"
      ]
     },
     "metadata": {},
     "output_type": "display_data"
    }
   ],
   "source": [
    "import matplotlib.pyplot as plt\n",
    "%matplotlib inline\n",
    "image_index = 7777\n",
    "print(y_train[image_index])\n",
    "plt.imshow(x_train[image_index], cmap='Greys')"
   ]
  },
  {
   "cell_type": "code",
   "execution_count": 53,
   "metadata": {
    "colab": {
     "base_uri": "https://localhost:8080/"
    },
    "id": "5MBj6_uRuASY",
    "outputId": "cb93f059-b062-452e-dec8-2fd699e4581e"
   },
   "outputs": [
    {
     "data": {
      "text/plain": [
       "(60000, 28, 28)"
      ]
     },
     "execution_count": 53,
     "metadata": {},
     "output_type": "execute_result"
    }
   ],
   "source": [
    "x_train.shape"
   ]
  },
  {
   "cell_type": "code",
   "execution_count": 54,
   "metadata": {
    "colab": {
     "base_uri": "https://localhost:8080/"
    },
    "id": "F3tk4V8AuFc3",
    "outputId": "c6317a3c-dbfb-4524-e724-2d7e3698df54"
   },
   "outputs": [
    {
     "name": "stdout",
     "output_type": "stream",
     "text": [
      "x_train shape: (60000, 28, 28, 1)\n",
      "Number of images in x_train 60000\n",
      "Number of images in x_test 10000\n"
     ]
    }
   ],
   "source": [
    "# Reshaping the array to 4-dims so that it can work with the Keras API\n",
    "x_train = x_train.reshape(x_train.shape[0], 28, 28, 1)\n",
    "x_test = x_test.reshape(x_test.shape[0], 28, 28, 1)\n",
    "input_shape = (28, 28, 1)\n",
    "# Making sure that the values are float so that we can get decimal points after division\n",
    "x_train = x_train.astype('float32')\n",
    "x_test = x_test.astype('float32')\n",
    "# Normalizing the RGB codes by dividing it to the max RGB value.\n",
    "x_train /= 255\n",
    "x_test /= 255\n",
    "print('x_train shape:', x_train.shape)\n",
    "print('Number of images in x_train', x_train.shape[0])\n",
    "print('Number of images in x_test', x_test.shape[0])"
   ]
  },
  {
   "cell_type": "code",
   "execution_count": 55,
   "metadata": {
    "id": "M5YbKIBduLLv"
   },
   "outputs": [],
   "source": [
    "# Importing the required Keras modules containing model and layers\n",
    "from tensorflow.keras.models import Sequential\n",
    "from tensorflow.keras.layers import Dense, Conv2D, Dropout, Flatten, MaxPooling2D\n",
    "# Creating a Sequential Model and adding the layers\n",
    "model = Sequential()\n",
    "model.add(Conv2D(28, kernel_size=(3,3), input_shape=input_shape))\n",
    "model.add(MaxPooling2D(pool_size=(2, 2)))\n",
    "model.add(Flatten()) # Flattening the 2D arrays for fully connected layers\n",
    "model.add(Dense(128, activation=tf.nn.relu))\n",
    "model.add(Dropout(0.2))\n",
    "model.add(Dense(10,activation=tf.nn.softmax))"
   ]
  },
  {
   "cell_type": "code",
   "execution_count": 56,
   "metadata": {
    "colab": {
     "base_uri": "https://localhost:8080/"
    },
    "id": "VSwsz-NGuQGZ",
    "outputId": "a6f54312-e885-469b-b0ee-761e44b1a0cf"
   },
   "outputs": [
    {
     "name": "stdout",
     "output_type": "stream",
     "text": [
      "Epoch 1/100\n",
      "1875/1875 [==============================] - 15s 8ms/step - loss: 0.2116 - accuracy: 0.9364\n",
      "Epoch 2/100\n",
      "1875/1875 [==============================] - 14s 7ms/step - loss: 0.0900 - accuracy: 0.9724\n",
      "Epoch 3/100\n",
      "1875/1875 [==============================] - 14s 7ms/step - loss: 0.0632 - accuracy: 0.9806\n",
      "Epoch 4/100\n",
      "1875/1875 [==============================] - 14s 7ms/step - loss: 0.0490 - accuracy: 0.9843\n",
      "Epoch 5/100\n",
      "1875/1875 [==============================] - 14s 8ms/step - loss: 0.0394 - accuracy: 0.9871\n",
      "Epoch 6/100\n",
      "1875/1875 [==============================] - 14s 7ms/step - loss: 0.0326 - accuracy: 0.9892\n",
      "Epoch 7/100\n",
      "1875/1875 [==============================] - 14s 8ms/step - loss: 0.0276 - accuracy: 0.9906\n",
      "Epoch 8/100\n",
      "1875/1875 [==============================] - 15s 8ms/step - loss: 0.0236 - accuracy: 0.9916\n",
      "Epoch 9/100\n",
      "1875/1875 [==============================] - 14s 8ms/step - loss: 0.0210 - accuracy: 0.9931\n",
      "Epoch 10/100\n",
      "1875/1875 [==============================] - 14s 8ms/step - loss: 0.0180 - accuracy: 0.9940\n",
      "Epoch 11/100\n",
      "1875/1875 [==============================] - 14s 8ms/step - loss: 0.0174 - accuracy: 0.9942\n",
      "Epoch 12/100\n",
      "1875/1875 [==============================] - 14s 8ms/step - loss: 0.0164 - accuracy: 0.9945\n",
      "Epoch 13/100\n",
      "1875/1875 [==============================] - 14s 8ms/step - loss: 0.0153 - accuracy: 0.9949\n",
      "Epoch 14/100\n",
      "1875/1875 [==============================] - 14s 8ms/step - loss: 0.0156 - accuracy: 0.9947\n",
      "Epoch 15/100\n",
      "1875/1875 [==============================] - 15s 8ms/step - loss: 0.0131 - accuracy: 0.9957\n",
      "Epoch 16/100\n",
      "1875/1875 [==============================] - 14s 8ms/step - loss: 0.0131 - accuracy: 0.9958\n",
      "Epoch 17/100\n",
      "1875/1875 [==============================] - 14s 8ms/step - loss: 0.0129 - accuracy: 0.9956\n",
      "Epoch 18/100\n",
      "1875/1875 [==============================] - 14s 8ms/step - loss: 0.0117 - accuracy: 0.9958\n",
      "Epoch 19/100\n",
      "1875/1875 [==============================] - 14s 8ms/step - loss: 0.0119 - accuracy: 0.9961\n",
      "Epoch 20/100\n",
      "1875/1875 [==============================] - 14s 8ms/step - loss: 0.0125 - accuracy: 0.9960\n",
      "Epoch 21/100\n",
      "1875/1875 [==============================] - 14s 8ms/step - loss: 0.0095 - accuracy: 0.9969\n",
      "Epoch 22/100\n",
      "1875/1875 [==============================] - 14s 8ms/step - loss: 0.0113 - accuracy: 0.9965\n",
      "Epoch 23/100\n",
      "1875/1875 [==============================] - 15s 8ms/step - loss: 0.0122 - accuracy: 0.9960\n",
      "Epoch 24/100\n",
      "1875/1875 [==============================] - 14s 7ms/step - loss: 0.0096 - accuracy: 0.9968\n",
      "Epoch 25/100\n",
      "1875/1875 [==============================] - 14s 8ms/step - loss: 0.0095 - accuracy: 0.9969\n",
      "Epoch 26/100\n",
      "1875/1875 [==============================] - 14s 7ms/step - loss: 0.0096 - accuracy: 0.9972\n",
      "Epoch 27/100\n",
      "1875/1875 [==============================] - 14s 7ms/step - loss: 0.0096 - accuracy: 0.9969\n",
      "Epoch 28/100\n",
      "1875/1875 [==============================] - 15s 8ms/step - loss: 0.0094 - accuracy: 0.9970\n",
      "Epoch 29/100\n",
      "1875/1875 [==============================] - 14s 8ms/step - loss: 0.0096 - accuracy: 0.9969\n",
      "Epoch 30/100\n",
      "1875/1875 [==============================] - 14s 8ms/step - loss: 0.0093 - accuracy: 0.9969\n",
      "Epoch 31/100\n",
      "1875/1875 [==============================] - 14s 8ms/step - loss: 0.0083 - accuracy: 0.9975\n",
      "Epoch 32/100\n",
      "1875/1875 [==============================] - 14s 8ms/step - loss: 0.0101 - accuracy: 0.9968\n",
      "Epoch 33/100\n",
      "1875/1875 [==============================] - 14s 8ms/step - loss: 0.0079 - accuracy: 0.9973\n",
      "Epoch 34/100\n",
      "1875/1875 [==============================] - 14s 8ms/step - loss: 0.0105 - accuracy: 0.9966\n",
      "Epoch 35/100\n",
      "1875/1875 [==============================] - 14s 8ms/step - loss: 0.0081 - accuracy: 0.9975\n",
      "Epoch 36/100\n",
      "1875/1875 [==============================] - 14s 8ms/step - loss: 0.0090 - accuracy: 0.9973\n",
      "Epoch 37/100\n",
      "1875/1875 [==============================] - 14s 8ms/step - loss: 0.0089 - accuracy: 0.9973\n",
      "Epoch 38/100\n",
      "1875/1875 [==============================] - 14s 8ms/step - loss: 0.0075 - accuracy: 0.9977\n",
      "Epoch 39/100\n",
      "1875/1875 [==============================] - 15s 8ms/step - loss: 0.0098 - accuracy: 0.9972\n",
      "Epoch 40/100\n",
      "1875/1875 [==============================] - 14s 8ms/step - loss: 0.0073 - accuracy: 0.9976\n",
      "Epoch 41/100\n",
      "1875/1875 [==============================] - 15s 8ms/step - loss: 0.0091 - accuracy: 0.9973\n",
      "Epoch 42/100\n",
      "1875/1875 [==============================] - 15s 8ms/step - loss: 0.0075 - accuracy: 0.9976\n",
      "Epoch 43/100\n",
      "1875/1875 [==============================] - 14s 8ms/step - loss: 0.0075 - accuracy: 0.9978\n",
      "Epoch 44/100\n",
      "1875/1875 [==============================] - 14s 8ms/step - loss: 0.0078 - accuracy: 0.9976\n",
      "Epoch 45/100\n",
      "1875/1875 [==============================] - 14s 8ms/step - loss: 0.0076 - accuracy: 0.9977\n",
      "Epoch 46/100\n",
      "1875/1875 [==============================] - 14s 8ms/step - loss: 0.0085 - accuracy: 0.9974\n",
      "Epoch 47/100\n",
      "1875/1875 [==============================] - 14s 8ms/step - loss: 0.0070 - accuracy: 0.9980\n",
      "Epoch 48/100\n",
      "1875/1875 [==============================] - 14s 8ms/step - loss: 0.0078 - accuracy: 0.9977\n",
      "Epoch 49/100\n",
      "1875/1875 [==============================] - 15s 8ms/step - loss: 0.0069 - accuracy: 0.9979\n",
      "Epoch 50/100\n",
      "1875/1875 [==============================] - 15s 8ms/step - loss: 0.0070 - accuracy: 0.9981\n",
      "Epoch 51/100\n",
      "1875/1875 [==============================] - 15s 8ms/step - loss: 0.0091 - accuracy: 0.9976\n",
      "Epoch 52/100\n",
      "1875/1875 [==============================] - 15s 8ms/step - loss: 0.0092 - accuracy: 0.9975\n",
      "Epoch 53/100\n",
      "1875/1875 [==============================] - 15s 8ms/step - loss: 0.0083 - accuracy: 0.9977\n",
      "Epoch 54/100\n",
      "1875/1875 [==============================] - 15s 8ms/step - loss: 0.0090 - accuracy: 0.9977\n",
      "Epoch 55/100\n",
      "1875/1875 [==============================] - 15s 8ms/step - loss: 0.0063 - accuracy: 0.9980\n",
      "Epoch 56/100\n",
      "1875/1875 [==============================] - 14s 8ms/step - loss: 0.0077 - accuracy: 0.9978\n",
      "Epoch 57/100\n",
      "1875/1875 [==============================] - 14s 8ms/step - loss: 0.0080 - accuracy: 0.9979\n",
      "Epoch 58/100\n",
      "1875/1875 [==============================] - 14s 8ms/step - loss: 0.0074 - accuracy: 0.9980\n",
      "Epoch 59/100\n",
      "1875/1875 [==============================] - 14s 8ms/step - loss: 0.0084 - accuracy: 0.9974\n",
      "Epoch 60/100\n",
      "1875/1875 [==============================] - 14s 8ms/step - loss: 0.0075 - accuracy: 0.9981\n",
      "Epoch 61/100\n",
      "1875/1875 [==============================] - 14s 8ms/step - loss: 0.0081 - accuracy: 0.9980\n",
      "Epoch 62/100\n",
      "1875/1875 [==============================] - 14s 8ms/step - loss: 0.0070 - accuracy: 0.9981\n",
      "Epoch 63/100\n",
      "1875/1875 [==============================] - 14s 8ms/step - loss: 0.0055 - accuracy: 0.9984\n",
      "Epoch 64/100\n",
      "1875/1875 [==============================] - 14s 8ms/step - loss: 0.0061 - accuracy: 0.9983\n",
      "Epoch 65/100\n",
      "1875/1875 [==============================] - 14s 8ms/step - loss: 0.0098 - accuracy: 0.9977\n",
      "Epoch 66/100\n",
      "1875/1875 [==============================] - 15s 8ms/step - loss: 0.0069 - accuracy: 0.9981\n",
      "Epoch 67/100\n",
      "1875/1875 [==============================] - 14s 8ms/step - loss: 0.0078 - accuracy: 0.9980\n",
      "Epoch 68/100\n",
      "1875/1875 [==============================] - 14s 8ms/step - loss: 0.0064 - accuracy: 0.9981\n",
      "Epoch 69/100\n",
      "1875/1875 [==============================] - 14s 8ms/step - loss: 0.0090 - accuracy: 0.9975\n",
      "Epoch 70/100\n",
      "1875/1875 [==============================] - 14s 8ms/step - loss: 0.0054 - accuracy: 0.9985\n",
      "Epoch 71/100\n",
      "1875/1875 [==============================] - 15s 8ms/step - loss: 0.0055 - accuracy: 0.9985\n",
      "Epoch 72/100\n",
      "1875/1875 [==============================] - 15s 8ms/step - loss: 0.0075 - accuracy: 0.9980\n",
      "Epoch 73/100\n",
      "1875/1875 [==============================] - 15s 8ms/step - loss: 0.0063 - accuracy: 0.9984\n",
      "Epoch 74/100\n",
      "1875/1875 [==============================] - 14s 8ms/step - loss: 0.0084 - accuracy: 0.9981\n",
      "Epoch 75/100\n",
      "1875/1875 [==============================] - 14s 8ms/step - loss: 0.0071 - accuracy: 0.9982\n",
      "Epoch 76/100\n",
      "1875/1875 [==============================] - 15s 8ms/step - loss: 0.0068 - accuracy: 0.9984\n",
      "Epoch 77/100\n",
      "1875/1875 [==============================] - 14s 8ms/step - loss: 0.0068 - accuracy: 0.9983\n",
      "Epoch 78/100\n",
      "1875/1875 [==============================] - 15s 8ms/step - loss: 0.0076 - accuracy: 0.9979\n",
      "Epoch 79/100\n",
      "1875/1875 [==============================] - 16s 8ms/step - loss: 0.0082 - accuracy: 0.9981\n",
      "Epoch 80/100\n",
      "1875/1875 [==============================] - 15s 8ms/step - loss: 0.0053 - accuracy: 0.9987\n",
      "Epoch 81/100\n",
      "1875/1875 [==============================] - 14s 8ms/step - loss: 0.0084 - accuracy: 0.9980\n",
      "Epoch 82/100\n",
      "1875/1875 [==============================] - 14s 8ms/step - loss: 0.0089 - accuracy: 0.9982\n",
      "Epoch 83/100\n",
      "1875/1875 [==============================] - 14s 8ms/step - loss: 0.0072 - accuracy: 0.9982\n",
      "Epoch 84/100\n",
      "1875/1875 [==============================] - 14s 8ms/step - loss: 0.0060 - accuracy: 0.9984\n",
      "Epoch 85/100\n",
      "1875/1875 [==============================] - 14s 8ms/step - loss: 0.0069 - accuracy: 0.9983\n",
      "Epoch 86/100\n",
      "1875/1875 [==============================] - 14s 8ms/step - loss: 0.0069 - accuracy: 0.9982\n",
      "Epoch 87/100\n",
      "1875/1875 [==============================] - 14s 8ms/step - loss: 0.0078 - accuracy: 0.9983\n",
      "Epoch 88/100\n",
      "1875/1875 [==============================] - 14s 8ms/step - loss: 0.0075 - accuracy: 0.9984\n",
      "Epoch 89/100\n",
      "1875/1875 [==============================] - 14s 8ms/step - loss: 0.0065 - accuracy: 0.9985\n",
      "Epoch 90/100\n",
      "1875/1875 [==============================] - 14s 8ms/step - loss: 0.0063 - accuracy: 0.9984\n",
      "Epoch 91/100\n",
      "1875/1875 [==============================] - 14s 8ms/step - loss: 0.0082 - accuracy: 0.9982\n",
      "Epoch 92/100\n",
      "1875/1875 [==============================] - 15s 8ms/step - loss: 0.0068 - accuracy: 0.9983\n",
      "Epoch 93/100\n",
      "1875/1875 [==============================] - 15s 8ms/step - loss: 0.0092 - accuracy: 0.9980\n",
      "Epoch 94/100\n",
      "1875/1875 [==============================] - 14s 8ms/step - loss: 0.0063 - accuracy: 0.9985\n",
      "Epoch 95/100\n",
      "1875/1875 [==============================] - 14s 8ms/step - loss: 0.0071 - accuracy: 0.9984\n",
      "Epoch 96/100\n",
      "1875/1875 [==============================] - 14s 8ms/step - loss: 0.0087 - accuracy: 0.9982\n",
      "Epoch 97/100\n",
      "1875/1875 [==============================] - 15s 8ms/step - loss: 0.0061 - accuracy: 0.9986\n",
      "Epoch 98/100\n",
      "1875/1875 [==============================] - 14s 8ms/step - loss: 0.0060 - accuracy: 0.9986\n",
      "Epoch 99/100\n",
      "1875/1875 [==============================] - 14s 8ms/step - loss: 0.0056 - accuracy: 0.9985\n",
      "Epoch 100/100\n",
      "1875/1875 [==============================] - 14s 8ms/step - loss: 0.0077 - accuracy: 0.9982\n"
     ]
    },
    {
     "data": {
      "text/plain": [
       "<keras.callbacks.History at 0x14a2f8d00>"
      ]
     },
     "execution_count": 56,
     "metadata": {},
     "output_type": "execute_result"
    }
   ],
   "source": [
    "model.compile(optimizer='adam',\n",
    "              loss='sparse_categorical_crossentropy',\n",
    "              metrics=['accuracy'])\n",
    "model.fit(x=x_train,y=y_train, epochs=100)"
   ]
  },
  {
   "cell_type": "code",
   "execution_count": 57,
   "metadata": {
    "colab": {
     "base_uri": "https://localhost:8080/"
    },
    "id": "whTXyzuxwFDa",
    "outputId": "f824113c-2d05-4921-a094-d48fa86618d4",
    "scrolled": true
   },
   "outputs": [
    {
     "name": "stdout",
     "output_type": "stream",
     "text": [
      "313/313 [==============================] - 1s 2ms/step - loss: 0.1849 - accuracy: 0.9855\n"
     ]
    },
    {
     "data": {
      "text/plain": [
       "[0.18494871258735657, 0.9854999780654907]"
      ]
     },
     "execution_count": 57,
     "metadata": {},
     "output_type": "execute_result"
    }
   ],
   "source": [
    "model.evaluate(x_test, y_test)"
   ]
  },
  {
   "cell_type": "code",
   "execution_count": 58,
   "metadata": {
    "colab": {
     "base_uri": "https://localhost:8080/",
     "height": 465
    },
    "id": "Va4oOhPswJiX",
    "outputId": "af445303-0eb5-40a3-bb5a-1ba997b327b5",
    "scrolled": false
   },
   "outputs": [
    {
     "name": "stdout",
     "output_type": "stream",
     "text": [
      "1/1 [==============================] - 0s 45ms/step\n",
      "7\n"
     ]
    },
    {
     "data": {
      "image/png": "[encoded data removed]",
      "text/plain": [
       "<Figure size 640x480 with 1 Axes>"
      ]
     },
     "metadata": {},
     "output_type": "display_data"
    }
   ],
   "source": [
    "\n",
    "image_index = 4467\n",
    "plt.imshow(x_test[image_index].reshape(28, 28),cmap='Greys')\n",
    "pred = model.predict(x_test[image_index].reshape(1, 28, 28, 1))\n",
    "print(pred.argmax())"
   ]
  },
  {
   "cell_type": "code",
   "execution_count": 59,
   "metadata": {
    "scrolled": true
   },
   "outputs": [],
   "source": [
    "model.save('cnn_model.h5')"
   ]
  },
  {
   "cell_type": "code",
   "execution_count": null,
   "metadata": {},
   "outputs": [],
   "source": []
  }
 ],
 "metadata": {
  "colab": {
   "provenance": []
  },
  "kernelspec": {
   "display_name": "Python 3 (ipykernel)",
   "language": "python",
   "name": "python3"
  },
  "language_info": {
   "codemirror_mode": {
    "name": "ipython",
    "version": 3
   },
   "file_extension": ".py",
   "mimetype": "text/x-python",
   "name": "python",
   "nbconvert_exporter": "python",
   "pygments_lexer": "ipython3",
   "version": "3.10.9"
  }
 },
 "nbformat": 4,
 "nbformat_minor": 1
}
